{
 "cells": [
  {
   "cell_type": "code",
   "execution_count": 1,
   "metadata": {},
   "outputs": [
    {
     "name": "stderr",
     "output_type": "stream",
     "text": [
      "[nltk_data] Downloading package punkt to\n",
      "[nltk_data]     C:\\Users\\porus\\AppData\\Roaming\\nltk_data...\n",
      "[nltk_data]   Package punkt is already up-to-date!\n"
     ]
    }
   ],
   "source": [
    "import nltk\n",
    "nltk.download\n",
    "nltk.download('punkt')\n",
    "from nltk.corpus import stopwords\n",
    "\n",
    "stopwords_en = stopwords.words (\"english\")\n",
    "\n",
    "def preprocessing (raw):\n",
    "    word_list = nltk.word_tokenize (raw)\n",
    "    text = [w.lower() for w in word_list if w not in stopwords_en]\n",
    "    return text\n",
    "\n",
    "f1 = open('summary1.txt', 'r')\n",
    "text1 = preprocessing (f1.read())\n",
    "\n",
    "f2 = open ('summary2.txt', 'r')\n",
    "text2 = preprocessing (f2.read())"
   ]
  },
  {
   "cell_type": "code",
   "execution_count": 2,
   "metadata": {},
   "outputs": [
    {
     "name": "stdout",
     "output_type": "stream",
     "text": [
      "{'agreed': 1, 'town': 2, 'could': 1, 'affection': 1, 'helpless': 2, 'dead': 1, 'feet': 2, 'become': 2, 'flock': 0, 'experienced': 0, 'it': 2, 'remove': 2, 'asks': 0, 'weep': 1, 'went': 1, 'breaking': 1, 'bird': 15, 'melted': 1, 'melt': 1, 'plight': 2, 'embedded': 1, 'by': 1, 'among': 1, 'blind': 1, 'explains': 0, 'asked': 3, 'way': 2, 'came': 1, 'suffering': 0, 'crying': 0, 'convinced': 1, 'playwright': 1, 'inform': 1, 'grey': 1, 'death': 2, 'goodbye': 1, 'help': 1, 'egypt': 1, 'became': 2, 'this': 1, 'stone': 4, 'place': 1, 'him': 0, 'things': 1, 'gemstones': 0, 'rests': 0, 'breaks': 0, 'discarded': 0, 'bring': 0, 'called': 1, 'he': 1, 'becoming': 1, 'overwhelmed': 1, 'stay': 1, 'unable': 1, 'merry': 1, 'took': 3, 'nothing': 0, 'handle': 1, 'covering': 1, 'tall': 1, 'lifetime': 0, 'never': 0, 'leave': 2, 'swallow': 4, 'devoid': 0, 'decides': 0, 'pained': 0, 'young': 1, 'developed': 1, 'furnace': 1, 'gone': 0, 'want': 1, 'back': 1, 'deliver': 1, 'lead': 1, 'now': 0, 'dies': 0, 'survival': 1, '-': 1, 'happy': 5, 'covered': 1, 'once': 1, 'joyous': 1, 'strange': 1, 'loves': 0, 'palace': 0, 'notices': 0, 'beauty': 0, 'two': 1, 'cold': 2, 'go': 1, 'requested': 1, 'harsh': 0, 'lived': 3, 'arrives': 0, 'garbage': 1, 'stripped': 0, 'initial': 1, 'prince': 9, 'the': 8, 'sword': 2, 'loved': 1, 'deceased': 0, 'families': 0, 'on': 2, 'messenger': 1, 'bid': 1, 'made': 1, 'need': 0, 'life': 1, 'approaching': 1, 'kiss': 1, 'result': 0, 'also': 1, 'seamstress': 1, 'although': 1, 'next': 1, 'city': 2, 'girl': 1, 'dull': 1, 'around': 2, 'day': 4, 'realized': 4, 'gold': 3, '’': 5, 'pull': 1, 'middle': 1, 'died': 1, 'stones': 2, 'heart': 4, 'though': 0, 'morning': 1, 'pursuing': 0, 'sorrow': 0, 'hilt': 1, 'foils': 1, 'refusal': 1, 'condition': 1, 'got': 1, 'misery': 2, 'landed': 1, 'tells': 0, 'attachment': 1, 'bread': 1, 'angel': 0, 'match': 1, 'when': 1, 'god': 1, 'thrown': 1, 'flying': 1, 'lost': 1, 'hand': 1, 'decrepit': 0, 'sight': 1, 'winter': 0, 'form': 0, 'meet': 1, 'as': 2, 'weather': 2, 'fell': 1, 'recently': 0, 'lot': 1, 'money': 1, 'inquiry': 1, 'time': 1, 'therefore': 0, 'ordered': 1, 'stands': 0, 'oversees': 0, 'erected': 1, 'body': 2, 'poverty': 1, 'weeping': 1, 'one': 3, 'leaf': 0, 'mayor': 0, 'towards': 1, 'near': 1, 'told': 1, 'upon': 1, 'rich': 1, 'finds': 0, 'night': 1, 'see': 2, 'angels': 1, 'land': 1, 'a': 1, 'withstand': 1, 'ruby': 2, 'needed': 1, 'shelter': 1, 'state': 0, 'distribute': 1, ',': 19, 'second': 1, 'living': 2, 'delivered': 1, 'broken': 1, 'like': 0, 'brings': 0, 'sound': 2, 'beautiful': 0, '.': 29, 'gradually': 1, 'poor': 4, 'broke': 1, 'people': 3, 'friends': 1, 'eyes': 2, 'make': 0, 'pedestal': 1, 'making': 1, 'take': 0, 'ornate': 0, 'informed': 1, 'that': 1, 'would': 1, 'high': 0, 'fitted': 1, 'saddened': 1, 'sapphire': 3, 'various': 0, 'after': 2, 'statue': 15, 'third': 1, 'eat': 1, 'from': 1, 'precious': 3, 'reed': 0}\n",
      "{'agreed': 0, 'town': 1, 'could': 0, 'affection': 0, 'helpless': 0, 'dead': 2, 'feet': 0, 'become': 0, 'flock': 1, 'experienced': 1, 'it': 0, 'remove': 0, 'asks': 1, 'weep': 0, 'went': 0, 'breaking': 0, 'bird': 1, 'melted': 0, 'melt': 1, 'plight': 0, 'embedded': 0, 'by': 1, 'among': 0, 'blind': 0, 'explains': 1, 'asked': 0, 'way': 0, 'came': 0, 'suffering': 2, 'crying': 1, 'convinced': 0, 'playwright': 0, 'inform': 0, 'grey': 0, 'death': 0, 'goodbye': 0, 'help': 0, 'egypt': 1, 'became': 0, 'this': 0, 'stone': 0, 'place': 0, 'him': 1, 'things': 1, 'gemstones': 1, 'rests': 1, 'breaks': 1, 'discarded': 1, 'bring': 1, 'called': 0, 'he': 2, 'becoming': 0, 'overwhelmed': 0, 'stay': 1, 'unable': 0, 'merry': 0, 'took': 0, 'nothing': 1, 'handle': 0, 'covering': 0, 'tall': 0, 'lifetime': 1, 'never': 1, 'leave': 0, 'swallow': 6, 'devoid': 1, 'decides': 2, 'pained': 1, 'young': 0, 'developed': 0, 'furnace': 0, 'gone': 1, 'want': 0, 'back': 0, 'deliver': 0, 'lead': 3, 'now': 1, 'dies': 1, 'survival': 0, '-': 0, 'happy': 4, 'covered': 0, 'once': 0, 'joyous': 0, 'strange': 0, 'loves': 1, 'palace': 1, 'notices': 1, 'beauty': 1, 'two': 1, 'cold': 1, 'go': 0, 'requested': 0, 'harsh': 1, 'lived': 1, 'arrives': 2, 'garbage': 0, 'stripped': 1, 'initial': 0, 'prince': 7, 'the': 3, 'sword': 0, 'loved': 0, 'deceased': 1, 'families': 1, 'on': 0, 'messenger': 0, 'bid': 0, 'made': 0, 'need': 1, 'life': 0, 'approaching': 0, 'kiss': 0, 'result': 1, 'also': 0, 'seamstress': 0, 'although': 0, 'next': 0, 'city': 3, 'girl': 0, 'dull': 0, 'around': 0, 'day': 0, 'realized': 0, 'gold': 1, '’': 2, 'pull': 0, 'middle': 0, 'died': 0, 'stones': 0, 'heart': 3, 'though': 2, 'morning': 0, 'pursuing': 1, 'sorrow': 1, 'hilt': 0, 'foils': 0, 'refusal': 0, 'condition': 0, 'got': 0, 'misery': 1, 'landed': 0, 'tells': 1, 'attachment': 0, 'bread': 0, 'angel': 2, 'match': 0, 'when': 1, 'god': 1, 'thrown': 0, 'flying': 0, 'lost': 0, 'hand': 0, 'decrepit': 1, 'sight': 0, 'winter': 2, 'form': 1, 'meet': 0, 'as': 1, 'weather': 0, 'fell': 0, 'recently': 1, 'lot': 0, 'money': 0, 'inquiry': 0, 'time': 1, 'therefore': 1, 'ordered': 0, 'stands': 1, 'oversees': 1, 'erected': 0, 'body': 0, 'poverty': 0, 'weeping': 0, 'one': 1, 'leaf': 1, 'mayor': 1, 'towards': 0, 'near': 0, 'told': 0, 'upon': 0, 'rich': 0, 'finds': 1, 'night': 1, 'see': 1, 'angels': 0, 'land': 0, 'a': 0, 'withstand': 0, 'ruby': 0, 'needed': 0, 'shelter': 0, 'state': 1, 'distribute': 1, ',': 15, 'second': 0, 'living': 0, 'delivered': 0, 'broken': 0, 'like': 1, 'brings': 1, 'sound': 0, 'beautiful': 1, '.': 11, 'gradually': 0, 'poor': 0, 'broke': 0, 'people': 2, 'friends': 0, 'eyes': 0, 'make': 1, 'pedestal': 0, 'making': 0, 'take': 1, 'ornate': 2, 'informed': 0, 'that': 0, 'would': 0, 'high': 1, 'fitted': 0, 'saddened': 0, 'sapphire': 0, 'various': 1, 'after': 0, 'statue': 4, 'third': 0, 'eat': 0, 'from': 0, 'precious': 1, 'reed': 1}\n"
     ]
    }
   ],
   "source": [
    "from nltk.probability import FreqDist\n",
    "\n",
    "word_set = set(text1).union(set(text2))\n",
    "\n",
    "freqd_text1 = FreqDist(text1)\n",
    "text1_count_dict = dict.fromkeys(word_set,0)\n",
    "for word in text1:\n",
    "    text1_count_dict[word] = freqd_text1[word]\n",
    "\n",
    "freqd_text2 = FreqDist(text2)\n",
    "text2_count_dict = dict.fromkeys(word_set,0)\n",
    "for word in text2:\n",
    "    text2_count_dict[word]=freqd_text2[word]\n",
    "print(text1_count_dict)\n",
    "print(text2_count_dict)"
   ]
  },
  {
   "cell_type": "code",
   "execution_count": 3,
   "metadata": {},
   "outputs": [],
   "source": [
    "freqd_text1 = FreqDist (text1)\n",
    "text1_length = len(text1)\n",
    "text1_tf_dict = dict.fromkeys(word_set, 0)\n",
    "for word in text1:\n",
    "    text1_tf_dict[word] = freqd_text1[word]/text1_length\n",
    "\n",
    "freqd_text2 = FreqDist(text2)\n",
    "text2_length = len(text2)\n",
    "text2_tf_dict = dict.fromkeys(word_set, 0)\n",
    "for word in text2:\n",
    "    text2_tf_dict[word] = freqd_text2[word]/text2_length"
   ]
  },
  {
   "cell_type": "code",
   "execution_count": 4,
   "metadata": {},
   "outputs": [],
   "source": [
    "text12_idf_dict = dict.fromkeys (word_set,0)\n",
    "text12_length = 2 # 2 documents\n",
    "for word in text12_idf_dict.keys () :\n",
    "    if word in text1:\n",
    "\n",
    "        text12_idf_dict [word] += 1\n",
    "    \n",
    "    if word in text2:\n",
    "        text12_idf_dict [word] += 1\n",
    "\n",
    "import math\n",
    "for word, val in text12_idf_dict.items():\n",
    "    text12_idf_dict[word] = 1 + math.log(text12_length/ (float(val) ) )"
   ]
  },
  {
   "cell_type": "code",
   "execution_count": 5,
   "metadata": {},
   "outputs": [],
   "source": [
    "# TF-IDF Calculations\n",
    "text1_tfidf_dict = dict.fromkeys (word_set, 0)\n",
    "for word in text1:\n",
    "    text1_tfidf_dict[word] = (text1_tf_dict[word]) * (text12_idf_dict[word])\n",
    "\n",
    "text2_tfidf_dict = dict.fromkeys(word_set, 0)\n",
    "for word in text2:\n",
    "    text2_tfidf_dict[word] = (text2_tf_dict[word]) * (text12_idf_dict[word])"
   ]
  },
  {
   "cell_type": "code",
   "execution_count": 6,
   "metadata": {},
   "outputs": [
    {
     "name": "stderr",
     "output_type": "stream",
     "text": [
      "C:\\ProgramData\\Anaconda3\\lib\\site-packages\\gensim\\utils.py:1197: UserWarning: detected Windows; aliasing chunkize to chunkize_serial\n",
      "  warnings.warn(\"detected Windows; aliasing chunkize to chunkize_serial\")\n",
      "C:\\ProgramData\\Anaconda3\\lib\\site-packages\\gensim\\models\\doc2vec.py:366: UserWarning: The parameter `size` is deprecated, will be removed in 4.0.0, use `vector_size` instead.\n",
      "  warnings.warn(\"The parameter `size` is deprecated, will be removed in 4.0.0, use `vector_size` instead.\")\n"
     ]
    },
    {
     "name": "stdout",
     "output_type": "stream",
     "text": [
      "Now training epoch 0\n",
      "Now training epoch 20\n",
      "Now training epoch 40\n",
      "Now training epoch 60\n"
     ]
    }
   ],
   "source": [
    "import gensim.models.doc2vec\n",
    "from gensim.models.doc2vec import TaggedDocument\n",
    "\n",
    "taggeddocs = []\n",
    "doc1 = TaggedDocument(words=text1, tags=[u'NEWS_1'])\n",
    "taggeddocs.append(doc1)\n",
    "doc2 = TaggedDocument(words=text2, tags=[u'NEWS_2'])\n",
    "taggeddocs.append(doc2)\n",
    "\n",
    "# build the model\n",
    "model = gensim.models.Doc2Vec(taggeddocs, dm=0, alpha=0.025, size=20, min_alpha=0.025, min_count=0)\n",
    "\n",
    "# training\n",
    "for epoch in range (80):\n",
    "    if epoch % 20 == 0:\n",
    "        print ('Now training epoch %s' % epoch)\n",
    "    \n",
    "    model.train(taggeddocs,total_examples=model.corpus_count,epochs=model.epochs)\n",
    "    model.alpha -= 0.002 # decrease the learning rate\n",
    "    model.min_alpha = model.alpha # fix the learning rate, no decay"
   ]
  },
  {
   "cell_type": "code",
   "execution_count": 7,
   "metadata": {},
   "outputs": [
    {
     "name": "stdout",
     "output_type": "stream",
     "text": [
      "Similarity Index:60.84 %\n"
     ]
    }
   ],
   "source": [
    "# Compute Cosine distance\n",
    "v1 = list(text1_tfidf_dict.values())\n",
    "v2 = list(text2_tfidf_dict.values ())\n",
    "similarity = 1 - nltk.cluster.cosine_distance(v1,v2)\n",
    "print (\"Similarity Index:{:4.2f} %\".format(similarity*100))"
   ]
  },
  {
   "cell_type": "code",
   "execution_count": 8,
   "metadata": {},
   "outputs": [
    {
     "name": "stdout",
     "output_type": "stream",
     "text": [
      "Similarity Index: 82.85 %\n"
     ]
    },
    {
     "name": "stderr",
     "output_type": "stream",
     "text": [
      "C:\\ProgramData\\Anaconda3\\lib\\site-packages\\ipykernel_launcher.py:1: DeprecationWarning: Call to deprecated `n_similarity` (Method will be removed in 4.0.0, use self.wv.n_similarity() instead).\n",
      "  \"\"\"Entry point for launching an IPython kernel.\n"
     ]
    }
   ],
   "source": [
    "similarity = model.n_similarity (text1, text2)\n",
    "print (\"Similarity Index: {:4.2f} %\".format(similarity*100))"
   ]
  },
  {
   "cell_type": "code",
   "execution_count": null,
   "metadata": {},
   "outputs": [],
   "source": []
  },
  {
   "cell_type": "code",
   "execution_count": 9,
   "metadata": {},
   "outputs": [],
   "source": []
  },
  {
   "cell_type": "code",
   "execution_count": null,
   "metadata": {},
   "outputs": [],
   "source": []
  }
 ],
 "metadata": {
  "kernelspec": {
   "display_name": "Python 3",
   "language": "python",
   "name": "python3"
  },
  "language_info": {
   "codemirror_mode": {
    "name": "ipython",
    "version": 3
   },
   "file_extension": ".py",
   "mimetype": "text/x-python",
   "name": "python",
   "nbconvert_exporter": "python",
   "pygments_lexer": "ipython3",
   "version": "3.7.3"
  }
 },
 "nbformat": 4,
 "nbformat_minor": 4
}
